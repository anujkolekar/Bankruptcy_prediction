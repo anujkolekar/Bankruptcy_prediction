{
 "cells": [
  {
   "cell_type": "code",
   "execution_count": 2,
   "metadata": {},
   "outputs": [],
   "source": [
    "import pandas as pd \n",
    "import numpy as np\n",
    "import pandas_profiling as pf\n",
    "import seaborn as sn\n",
    "import matplotlib.pyplot as plt\n",
    "from sklearn.model_selection import train_test_split\n",
    "from sklearn.model_selection import RandomizedSearchCV\n",
    "from sklearn.ensemble import RandomForestClassifier as RFC\n",
    "import sklearn.metrics as mt\n",
    "from sklearn.model_selection import GridSearchCV\n",
    "from sklearn.svm import SVC\n",
    "from imblearn.over_sampling import SMOTE\n",
    "from imblearn.under_sampling import RandomUnderSampler\n",
    "from sklearn.preprocessing import StandardScaler\n",
    "\n",
    "df=pd.read_csv('C:/Users/anuj/Documents/Anuj/MMA/Analytics For Financial Markets(823)/Team Assignment 2/Bankruptcy_data_Final.csv')"
   ]
  },
  {
   "cell_type": "code",
   "execution_count": 3,
   "metadata": {},
   "outputs": [
    {
     "name": "stdout",
     "output_type": "stream",
     "text": [
      "<class 'pandas.core.frame.DataFrame'>\n",
      "RangeIndex: 92872 entries, 0 to 92871\n",
      "Data columns (total 15 columns):\n",
      " #   Column              Non-Null Count  Dtype  \n",
      "---  ------              --------------  -----  \n",
      " 0   Data Year - Fiscal  92872 non-null  int64  \n",
      " 1   Tobin's Q           92620 non-null  float64\n",
      " 2   EPS                 92867 non-null  float64\n",
      " 3   Liquidity           92625 non-null  float64\n",
      " 4   Profitability       92625 non-null  float64\n",
      " 5   Productivity        92625 non-null  float64\n",
      " 6   Leverage Ratio      92846 non-null  float64\n",
      " 7   Asset Turnover      92625 non-null  float64\n",
      " 8   Operational Margin  87315 non-null  float64\n",
      " 9   Return on Equity    92864 non-null  float64\n",
      " 10  Market Book Ratio   92815 non-null  float64\n",
      " 11  Assets Growth       86171 non-null  float64\n",
      " 12  Sales Growth        86171 non-null  float64\n",
      " 13  Employee Growth     85862 non-null  float64\n",
      " 14  BK                  92872 non-null  int64  \n",
      "dtypes: float64(13), int64(2)\n",
      "memory usage: 10.6 MB\n"
     ]
    }
   ],
   "source": [
    "df.info()"
   ]
  },
  {
   "cell_type": "code",
   "execution_count": 4,
   "metadata": {},
   "outputs": [
    {
     "data": {
      "text/html": [
       "<div>\n",
       "<style scoped>\n",
       "    .dataframe tbody tr th:only-of-type {\n",
       "        vertical-align: middle;\n",
       "    }\n",
       "\n",
       "    .dataframe tbody tr th {\n",
       "        vertical-align: top;\n",
       "    }\n",
       "\n",
       "    .dataframe thead th {\n",
       "        text-align: right;\n",
       "    }\n",
       "</style>\n",
       "<table border=\"1\" class=\"dataframe\">\n",
       "  <thead>\n",
       "    <tr style=\"text-align: right;\">\n",
       "      <th></th>\n",
       "      <th>Data Year - Fiscal</th>\n",
       "      <th>Tobin's Q</th>\n",
       "      <th>EPS</th>\n",
       "      <th>Liquidity</th>\n",
       "      <th>Profitability</th>\n",
       "      <th>Productivity</th>\n",
       "      <th>Leverage Ratio</th>\n",
       "      <th>Asset Turnover</th>\n",
       "      <th>Operational Margin</th>\n",
       "      <th>Return on Equity</th>\n",
       "      <th>Market Book Ratio</th>\n",
       "      <th>Assets Growth</th>\n",
       "      <th>Sales Growth</th>\n",
       "      <th>Employee Growth</th>\n",
       "      <th>BK</th>\n",
       "    </tr>\n",
       "  </thead>\n",
       "  <tbody>\n",
       "    <tr>\n",
       "      <th>count</th>\n",
       "      <td>92872.000000</td>\n",
       "      <td>92620.000000</td>\n",
       "      <td>92867.000000</td>\n",
       "      <td>92625.000000</td>\n",
       "      <td>92625.000000</td>\n",
       "      <td>92625.000000</td>\n",
       "      <td>92846.000000</td>\n",
       "      <td>92625.000000</td>\n",
       "      <td>87315.000000</td>\n",
       "      <td>92864.000000</td>\n",
       "      <td>9.281500e+04</td>\n",
       "      <td>86171.000000</td>\n",
       "      <td>86171.000000</td>\n",
       "      <td>85862.000000</td>\n",
       "      <td>92872.000000</td>\n",
       "    </tr>\n",
       "    <tr>\n",
       "      <th>mean</th>\n",
       "      <td>2004.105888</td>\n",
       "      <td>25.369008</td>\n",
       "      <td>-14.461355</td>\n",
       "      <td>-2.631237</td>\n",
       "      <td>-29.537274</td>\n",
       "      <td>-1.222871</td>\n",
       "      <td>1.345316</td>\n",
       "      <td>1.053613</td>\n",
       "      <td>-7.915485</td>\n",
       "      <td>-2.112382</td>\n",
       "      <td>3.585063e+02</td>\n",
       "      <td>1.294077</td>\n",
       "      <td>1.900109</td>\n",
       "      <td>0.343320</td>\n",
       "      <td>0.006008</td>\n",
       "    </tr>\n",
       "    <tr>\n",
       "      <th>std</th>\n",
       "      <td>9.875926</td>\n",
       "      <td>902.818813</td>\n",
       "      <td>2195.467288</td>\n",
       "      <td>121.610921</td>\n",
       "      <td>677.230667</td>\n",
       "      <td>35.885556</td>\n",
       "      <td>253.038093</td>\n",
       "      <td>2.115945</td>\n",
       "      <td>214.460079</td>\n",
       "      <td>352.596902</td>\n",
       "      <td>2.606364e+04</td>\n",
       "      <td>73.769522</td>\n",
       "      <td>177.632638</td>\n",
       "      <td>14.074156</td>\n",
       "      <td>0.077280</td>\n",
       "    </tr>\n",
       "    <tr>\n",
       "      <th>min</th>\n",
       "      <td>1979.000000</td>\n",
       "      <td>0.009000</td>\n",
       "      <td>-384000.000000</td>\n",
       "      <td>-25968.520000</td>\n",
       "      <td>-79682.000000</td>\n",
       "      <td>-5093.000000</td>\n",
       "      <td>-7811.000000</td>\n",
       "      <td>-31.590000</td>\n",
       "      <td>-30175.700000</td>\n",
       "      <td>-88875.140000</td>\n",
       "      <td>-3.151500e+06</td>\n",
       "      <td>-1.000000</td>\n",
       "      <td>-27.431000</td>\n",
       "      <td>-1.000000</td>\n",
       "      <td>0.000000</td>\n",
       "    </tr>\n",
       "    <tr>\n",
       "      <th>25%</th>\n",
       "      <td>1998.000000</td>\n",
       "      <td>1.120000</td>\n",
       "      <td>-0.140000</td>\n",
       "      <td>0.020000</td>\n",
       "      <td>-0.640000</td>\n",
       "      <td>-0.060000</td>\n",
       "      <td>0.000000</td>\n",
       "      <td>0.390000</td>\n",
       "      <td>-0.030000</td>\n",
       "      <td>-0.080000</td>\n",
       "      <td>1.120000e+01</td>\n",
       "      <td>-0.053000</td>\n",
       "      <td>-0.034000</td>\n",
       "      <td>-0.048000</td>\n",
       "      <td>0.000000</td>\n",
       "    </tr>\n",
       "    <tr>\n",
       "      <th>50%</th>\n",
       "      <td>2006.000000</td>\n",
       "      <td>1.540000</td>\n",
       "      <td>0.330000</td>\n",
       "      <td>0.190000</td>\n",
       "      <td>0.070000</td>\n",
       "      <td>0.060000</td>\n",
       "      <td>0.280000</td>\n",
       "      <td>0.830000</td>\n",
       "      <td>0.060000</td>\n",
       "      <td>0.030000</td>\n",
       "      <td>5.828000e+01</td>\n",
       "      <td>0.052000</td>\n",
       "      <td>0.060000</td>\n",
       "      <td>0.017000</td>\n",
       "      <td>0.000000</td>\n",
       "    </tr>\n",
       "    <tr>\n",
       "      <th>75%</th>\n",
       "      <td>2012.000000</td>\n",
       "      <td>2.590000</td>\n",
       "      <td>1.530000</td>\n",
       "      <td>0.400000</td>\n",
       "      <td>0.310000</td>\n",
       "      <td>0.110000</td>\n",
       "      <td>0.820000</td>\n",
       "      <td>1.390000</td>\n",
       "      <td>0.140000</td>\n",
       "      <td>0.070000</td>\n",
       "      <td>2.401400e+02</td>\n",
       "      <td>0.192000</td>\n",
       "      <td>0.204000</td>\n",
       "      <td>0.131000</td>\n",
       "      <td>0.000000</td>\n",
       "    </tr>\n",
       "    <tr>\n",
       "      <th>max</th>\n",
       "      <td>2017.000000</td>\n",
       "      <td>194537.670000</td>\n",
       "      <td>55339.000000</td>\n",
       "      <td>1.000000</td>\n",
       "      <td>140.580000</td>\n",
       "      <td>1102.000000</td>\n",
       "      <td>75970.380000</td>\n",
       "      <td>276.380000</td>\n",
       "      <td>394.470000</td>\n",
       "      <td>39500.000000</td>\n",
       "      <td>3.455419e+06</td>\n",
       "      <td>14231.000000</td>\n",
       "      <td>39850.000000</td>\n",
       "      <td>2699.000000</td>\n",
       "      <td>1.000000</td>\n",
       "    </tr>\n",
       "  </tbody>\n",
       "</table>\n",
       "</div>"
      ],
      "text/plain": [
       "       Data Year - Fiscal      Tobin's Q            EPS     Liquidity  \\\n",
       "count        92872.000000   92620.000000   92867.000000  92625.000000   \n",
       "mean          2004.105888      25.369008     -14.461355     -2.631237   \n",
       "std              9.875926     902.818813    2195.467288    121.610921   \n",
       "min           1979.000000       0.009000 -384000.000000 -25968.520000   \n",
       "25%           1998.000000       1.120000      -0.140000      0.020000   \n",
       "50%           2006.000000       1.540000       0.330000      0.190000   \n",
       "75%           2012.000000       2.590000       1.530000      0.400000   \n",
       "max           2017.000000  194537.670000   55339.000000      1.000000   \n",
       "\n",
       "       Profitability  Productivity  Leverage Ratio  Asset Turnover  \\\n",
       "count   92625.000000  92625.000000    92846.000000    92625.000000   \n",
       "mean      -29.537274     -1.222871        1.345316        1.053613   \n",
       "std       677.230667     35.885556      253.038093        2.115945   \n",
       "min    -79682.000000  -5093.000000    -7811.000000      -31.590000   \n",
       "25%        -0.640000     -0.060000        0.000000        0.390000   \n",
       "50%         0.070000      0.060000        0.280000        0.830000   \n",
       "75%         0.310000      0.110000        0.820000        1.390000   \n",
       "max       140.580000   1102.000000    75970.380000      276.380000   \n",
       "\n",
       "       Operational Margin  Return on Equity  Market Book Ratio  Assets Growth  \\\n",
       "count        87315.000000      92864.000000       9.281500e+04   86171.000000   \n",
       "mean            -7.915485         -2.112382       3.585063e+02       1.294077   \n",
       "std            214.460079        352.596902       2.606364e+04      73.769522   \n",
       "min         -30175.700000     -88875.140000      -3.151500e+06      -1.000000   \n",
       "25%             -0.030000         -0.080000       1.120000e+01      -0.053000   \n",
       "50%              0.060000          0.030000       5.828000e+01       0.052000   \n",
       "75%              0.140000          0.070000       2.401400e+02       0.192000   \n",
       "max            394.470000      39500.000000       3.455419e+06   14231.000000   \n",
       "\n",
       "       Sales Growth  Employee Growth            BK  \n",
       "count  86171.000000     85862.000000  92872.000000  \n",
       "mean       1.900109         0.343320      0.006008  \n",
       "std      177.632638        14.074156      0.077280  \n",
       "min      -27.431000        -1.000000      0.000000  \n",
       "25%       -0.034000        -0.048000      0.000000  \n",
       "50%        0.060000         0.017000      0.000000  \n",
       "75%        0.204000         0.131000      0.000000  \n",
       "max    39850.000000      2699.000000      1.000000  "
      ]
     },
     "execution_count": 4,
     "metadata": {},
     "output_type": "execute_result"
    }
   ],
   "source": [
    "df.describe()"
   ]
  },
  {
   "cell_type": "code",
   "execution_count": 5,
   "metadata": {},
   "outputs": [],
   "source": [
    "#pf.ProfileReport(df)"
   ]
  },
  {
   "cell_type": "code",
   "execution_count": 6,
   "metadata": {},
   "outputs": [
    {
     "data": {
      "text/plain": [
       "Data Year - Fiscal       0\n",
       "Tobin's Q              252\n",
       "EPS                      5\n",
       "Liquidity              247\n",
       "Profitability          247\n",
       "Productivity           247\n",
       "Leverage Ratio          26\n",
       "Asset Turnover         247\n",
       "Operational Margin    5557\n",
       "Return on Equity         8\n",
       "Market Book Ratio       57\n",
       "Assets Growth         6701\n",
       "Sales Growth          6701\n",
       "Employee Growth       7010\n",
       "BK                       0\n",
       "dtype: int64"
      ]
     },
     "execution_count": 6,
     "metadata": {},
     "output_type": "execute_result"
    }
   ],
   "source": [
    "pd.isna(df).sum()"
   ]
  },
  {
   "cell_type": "code",
   "execution_count": 7,
   "metadata": {},
   "outputs": [],
   "source": [
    "df=df.fillna(0)"
   ]
  },
  {
   "cell_type": "code",
   "execution_count": 8,
   "metadata": {},
   "outputs": [
    {
     "data": {
      "text/plain": [
       "Data Year - Fiscal    0\n",
       "Tobin's Q             0\n",
       "EPS                   0\n",
       "Liquidity             0\n",
       "Profitability         0\n",
       "Productivity          0\n",
       "Leverage Ratio        0\n",
       "Asset Turnover        0\n",
       "Operational Margin    0\n",
       "Return on Equity      0\n",
       "Market Book Ratio     0\n",
       "Assets Growth         0\n",
       "Sales Growth          0\n",
       "Employee Growth       0\n",
       "BK                    0\n",
       "dtype: int64"
      ]
     },
     "execution_count": 8,
     "metadata": {},
     "output_type": "execute_result"
    }
   ],
   "source": [
    "pd.isna(df).sum()"
   ]
  },
  {
   "cell_type": "code",
   "execution_count": 9,
   "metadata": {},
   "outputs": [
    {
     "name": "stdout",
     "output_type": "stream",
     "text": [
      "<class 'pandas.core.frame.DataFrame'>\n",
      "RangeIndex: 92872 entries, 0 to 92871\n",
      "Data columns (total 14 columns):\n",
      " #   Column              Non-Null Count  Dtype  \n",
      "---  ------              --------------  -----  \n",
      " 0   Tobin's Q           92872 non-null  float64\n",
      " 1   EPS                 92872 non-null  float64\n",
      " 2   Liquidity           92872 non-null  float64\n",
      " 3   Profitability       92872 non-null  float64\n",
      " 4   Productivity        92872 non-null  float64\n",
      " 5   Leverage Ratio      92872 non-null  float64\n",
      " 6   Asset Turnover      92872 non-null  float64\n",
      " 7   Operational Margin  92872 non-null  float64\n",
      " 8   Return on Equity    92872 non-null  float64\n",
      " 9   Market Book Ratio   92872 non-null  float64\n",
      " 10  Assets Growth       92872 non-null  float64\n",
      " 11  Sales Growth        92872 non-null  float64\n",
      " 12  Employee Growth     92872 non-null  float64\n",
      " 13  BK                  92872 non-null  int64  \n",
      "dtypes: float64(13), int64(1)\n",
      "memory usage: 9.9 MB\n"
     ]
    }
   ],
   "source": [
    "df1=df.drop(['Data Year - Fiscal'],axis=1)\n",
    "\n",
    "df1.info()"
   ]
  },
  {
   "cell_type": "code",
   "execution_count": 10,
   "metadata": {},
   "outputs": [
    {
     "data": {
      "text/html": [
       "<div>\n",
       "<style scoped>\n",
       "    .dataframe tbody tr th:only-of-type {\n",
       "        vertical-align: middle;\n",
       "    }\n",
       "\n",
       "    .dataframe tbody tr th {\n",
       "        vertical-align: top;\n",
       "    }\n",
       "\n",
       "    .dataframe thead th {\n",
       "        text-align: right;\n",
       "    }\n",
       "</style>\n",
       "<table border=\"1\" class=\"dataframe\">\n",
       "  <thead>\n",
       "    <tr style=\"text-align: right;\">\n",
       "      <th></th>\n",
       "      <th>Tobin's Q</th>\n",
       "      <th>EPS</th>\n",
       "      <th>Liquidity</th>\n",
       "      <th>Profitability</th>\n",
       "      <th>Productivity</th>\n",
       "      <th>Leverage Ratio</th>\n",
       "      <th>Asset Turnover</th>\n",
       "      <th>Operational Margin</th>\n",
       "      <th>Return on Equity</th>\n",
       "      <th>Market Book Ratio</th>\n",
       "      <th>Assets Growth</th>\n",
       "      <th>Sales Growth</th>\n",
       "      <th>Employee Growth</th>\n",
       "      <th>BK</th>\n",
       "    </tr>\n",
       "  </thead>\n",
       "  <tbody>\n",
       "    <tr>\n",
       "      <th>0</th>\n",
       "      <td>0.980</td>\n",
       "      <td>1.580</td>\n",
       "      <td>0.360</td>\n",
       "      <td>0.180</td>\n",
       "      <td>0.130</td>\n",
       "      <td>1.330</td>\n",
       "      <td>1.770</td>\n",
       "      <td>0.070</td>\n",
       "      <td>0.150</td>\n",
       "      <td>2.220</td>\n",
       "      <td>0.000</td>\n",
       "      <td>0.000</td>\n",
       "      <td>0.000</td>\n",
       "      <td>0</td>\n",
       "    </tr>\n",
       "    <tr>\n",
       "      <th>1</th>\n",
       "      <td>0.980</td>\n",
       "      <td>1.410</td>\n",
       "      <td>0.360</td>\n",
       "      <td>0.190</td>\n",
       "      <td>0.120</td>\n",
       "      <td>1.310</td>\n",
       "      <td>1.590</td>\n",
       "      <td>0.070</td>\n",
       "      <td>0.130</td>\n",
       "      <td>2.410</td>\n",
       "      <td>0.126</td>\n",
       "      <td>0.014</td>\n",
       "      <td>0.040</td>\n",
       "      <td>0</td>\n",
       "    </tr>\n",
       "    <tr>\n",
       "      <th>2</th>\n",
       "      <td>0.870</td>\n",
       "      <td>0.310</td>\n",
       "      <td>0.320</td>\n",
       "      <td>0.130</td>\n",
       "      <td>0.080</td>\n",
       "      <td>1.030</td>\n",
       "      <td>1.550</td>\n",
       "      <td>0.050</td>\n",
       "      <td>0.040</td>\n",
       "      <td>2.560</td>\n",
       "      <td>0.368</td>\n",
       "      <td>0.328</td>\n",
       "      <td>0.567</td>\n",
       "      <td>0</td>\n",
       "    </tr>\n",
       "    <tr>\n",
       "      <th>3</th>\n",
       "      <td>1.130</td>\n",
       "      <td>0.710</td>\n",
       "      <td>0.280</td>\n",
       "      <td>0.140</td>\n",
       "      <td>0.080</td>\n",
       "      <td>0.800</td>\n",
       "      <td>1.390</td>\n",
       "      <td>0.060</td>\n",
       "      <td>0.050</td>\n",
       "      <td>5.280</td>\n",
       "      <td>-0.021</td>\n",
       "      <td>-0.119</td>\n",
       "      <td>-0.096</td>\n",
       "      <td>0</td>\n",
       "    </tr>\n",
       "    <tr>\n",
       "      <th>4</th>\n",
       "      <td>1.260</td>\n",
       "      <td>0.750</td>\n",
       "      <td>0.410</td>\n",
       "      <td>0.130</td>\n",
       "      <td>0.080</td>\n",
       "      <td>0.200</td>\n",
       "      <td>1.300</td>\n",
       "      <td>0.060</td>\n",
       "      <td>0.040</td>\n",
       "      <td>8.680</td>\n",
       "      <td>0.233</td>\n",
       "      <td>0.147</td>\n",
       "      <td>0.053</td>\n",
       "      <td>0</td>\n",
       "    </tr>\n",
       "    <tr>\n",
       "      <th>...</th>\n",
       "      <td>...</td>\n",
       "      <td>...</td>\n",
       "      <td>...</td>\n",
       "      <td>...</td>\n",
       "      <td>...</td>\n",
       "      <td>...</td>\n",
       "      <td>...</td>\n",
       "      <td>...</td>\n",
       "      <td>...</td>\n",
       "      <td>...</td>\n",
       "      <td>...</td>\n",
       "      <td>...</td>\n",
       "      <td>...</td>\n",
       "      <td>...</td>\n",
       "    </tr>\n",
       "    <tr>\n",
       "      <th>92867</th>\n",
       "      <td>1.521</td>\n",
       "      <td>-1.488</td>\n",
       "      <td>-0.015</td>\n",
       "      <td>-0.759</td>\n",
       "      <td>-0.057</td>\n",
       "      <td>-1042.105</td>\n",
       "      <td>0.174</td>\n",
       "      <td>-0.327</td>\n",
       "      <td>-6.614</td>\n",
       "      <td>-1.847</td>\n",
       "      <td>-0.073</td>\n",
       "      <td>-0.557</td>\n",
       "      <td>-0.077</td>\n",
       "      <td>0</td>\n",
       "    </tr>\n",
       "    <tr>\n",
       "      <th>92868</th>\n",
       "      <td>1.988</td>\n",
       "      <td>-1.808</td>\n",
       "      <td>0.094</td>\n",
       "      <td>-1.205</td>\n",
       "      <td>-0.121</td>\n",
       "      <td>-4.530</td>\n",
       "      <td>0.216</td>\n",
       "      <td>-0.561</td>\n",
       "      <td>-4.519</td>\n",
       "      <td>-2.475</td>\n",
       "      <td>-0.202</td>\n",
       "      <td>-0.011</td>\n",
       "      <td>-0.208</td>\n",
       "      <td>0</td>\n",
       "    </tr>\n",
       "    <tr>\n",
       "      <th>92869</th>\n",
       "      <td>0.924</td>\n",
       "      <td>-0.016</td>\n",
       "      <td>0.039</td>\n",
       "      <td>0.000</td>\n",
       "      <td>-0.082</td>\n",
       "      <td>0.745</td>\n",
       "      <td>0.254</td>\n",
       "      <td>-0.324</td>\n",
       "      <td>-0.569</td>\n",
       "      <td>3274.506</td>\n",
       "      <td>-0.168</td>\n",
       "      <td>-0.020</td>\n",
       "      <td>-0.105</td>\n",
       "      <td>0</td>\n",
       "    </tr>\n",
       "    <tr>\n",
       "      <th>92870</th>\n",
       "      <td>0.788</td>\n",
       "      <td>-0.133</td>\n",
       "      <td>0.054</td>\n",
       "      <td>-0.029</td>\n",
       "      <td>0.001</td>\n",
       "      <td>0.575</td>\n",
       "      <td>0.196</td>\n",
       "      <td>0.005</td>\n",
       "      <td>-0.086</td>\n",
       "      <td>36.475</td>\n",
       "      <td>0.077</td>\n",
       "      <td>-0.171</td>\n",
       "      <td>-0.059</td>\n",
       "      <td>0</td>\n",
       "    </tr>\n",
       "    <tr>\n",
       "      <th>92871</th>\n",
       "      <td>0.885</td>\n",
       "      <td>-0.648</td>\n",
       "      <td>-0.037</td>\n",
       "      <td>-0.220</td>\n",
       "      <td>-0.145</td>\n",
       "      <td>0.693</td>\n",
       "      <td>0.222</td>\n",
       "      <td>-0.651</td>\n",
       "      <td>-0.498</td>\n",
       "      <td>55.624</td>\n",
       "      <td>-0.064</td>\n",
       "      <td>0.065</td>\n",
       "      <td>0.063</td>\n",
       "      <td>1</td>\n",
       "    </tr>\n",
       "  </tbody>\n",
       "</table>\n",
       "<p>92872 rows × 14 columns</p>\n",
       "</div>"
      ],
      "text/plain": [
       "       Tobin's Q    EPS  Liquidity  Profitability  Productivity  \\\n",
       "0          0.980  1.580      0.360          0.180         0.130   \n",
       "1          0.980  1.410      0.360          0.190         0.120   \n",
       "2          0.870  0.310      0.320          0.130         0.080   \n",
       "3          1.130  0.710      0.280          0.140         0.080   \n",
       "4          1.260  0.750      0.410          0.130         0.080   \n",
       "...          ...    ...        ...            ...           ...   \n",
       "92867      1.521 -1.488     -0.015         -0.759        -0.057   \n",
       "92868      1.988 -1.808      0.094         -1.205        -0.121   \n",
       "92869      0.924 -0.016      0.039          0.000        -0.082   \n",
       "92870      0.788 -0.133      0.054         -0.029         0.001   \n",
       "92871      0.885 -0.648     -0.037         -0.220        -0.145   \n",
       "\n",
       "       Leverage Ratio  Asset Turnover  Operational Margin  Return on Equity  \\\n",
       "0               1.330           1.770               0.070             0.150   \n",
       "1               1.310           1.590               0.070             0.130   \n",
       "2               1.030           1.550               0.050             0.040   \n",
       "3               0.800           1.390               0.060             0.050   \n",
       "4               0.200           1.300               0.060             0.040   \n",
       "...               ...             ...                 ...               ...   \n",
       "92867       -1042.105           0.174              -0.327            -6.614   \n",
       "92868          -4.530           0.216              -0.561            -4.519   \n",
       "92869           0.745           0.254              -0.324            -0.569   \n",
       "92870           0.575           0.196               0.005            -0.086   \n",
       "92871           0.693           0.222              -0.651            -0.498   \n",
       "\n",
       "       Market Book Ratio  Assets Growth  Sales Growth  Employee Growth  BK  \n",
       "0                  2.220          0.000         0.000            0.000   0  \n",
       "1                  2.410          0.126         0.014            0.040   0  \n",
       "2                  2.560          0.368         0.328            0.567   0  \n",
       "3                  5.280         -0.021        -0.119           -0.096   0  \n",
       "4                  8.680          0.233         0.147            0.053   0  \n",
       "...                  ...            ...           ...              ...  ..  \n",
       "92867             -1.847         -0.073        -0.557           -0.077   0  \n",
       "92868             -2.475         -0.202        -0.011           -0.208   0  \n",
       "92869           3274.506         -0.168        -0.020           -0.105   0  \n",
       "92870             36.475          0.077        -0.171           -0.059   0  \n",
       "92871             55.624         -0.064         0.065            0.063   1  \n",
       "\n",
       "[92872 rows x 14 columns]"
      ]
     },
     "execution_count": 10,
     "metadata": {},
     "output_type": "execute_result"
    }
   ],
   "source": [
    "df1"
   ]
  },
  {
   "cell_type": "code",
   "execution_count": 11,
   "metadata": {},
   "outputs": [
    {
     "data": {
      "text/html": [
       "<div>\n",
       "<style scoped>\n",
       "    .dataframe tbody tr th:only-of-type {\n",
       "        vertical-align: middle;\n",
       "    }\n",
       "\n",
       "    .dataframe tbody tr th {\n",
       "        vertical-align: top;\n",
       "    }\n",
       "\n",
       "    .dataframe thead th {\n",
       "        text-align: right;\n",
       "    }\n",
       "</style>\n",
       "<table border=\"1\" class=\"dataframe\">\n",
       "  <thead>\n",
       "    <tr style=\"text-align: right;\">\n",
       "      <th></th>\n",
       "      <th>Tobin's Q</th>\n",
       "      <th>EPS</th>\n",
       "      <th>Liquidity</th>\n",
       "      <th>Profitability</th>\n",
       "      <th>Productivity</th>\n",
       "      <th>Leverage Ratio</th>\n",
       "      <th>Asset Turnover</th>\n",
       "      <th>Operational Margin</th>\n",
       "      <th>Return on Equity</th>\n",
       "      <th>Market Book Ratio</th>\n",
       "      <th>Assets Growth</th>\n",
       "      <th>Sales Growth</th>\n",
       "      <th>Employee Growth</th>\n",
       "      <th>BK</th>\n",
       "    </tr>\n",
       "  </thead>\n",
       "  <tbody>\n",
       "    <tr>\n",
       "      <th>0</th>\n",
       "      <td>0.98</td>\n",
       "      <td>1.58</td>\n",
       "      <td>0.36</td>\n",
       "      <td>0.18</td>\n",
       "      <td>0.13</td>\n",
       "      <td>1.33</td>\n",
       "      <td>1.77</td>\n",
       "      <td>0.07</td>\n",
       "      <td>0.15</td>\n",
       "      <td>2.22</td>\n",
       "      <td>0.000</td>\n",
       "      <td>0.000</td>\n",
       "      <td>0.000</td>\n",
       "      <td>0</td>\n",
       "    </tr>\n",
       "    <tr>\n",
       "      <th>1</th>\n",
       "      <td>0.98</td>\n",
       "      <td>1.41</td>\n",
       "      <td>0.36</td>\n",
       "      <td>0.19</td>\n",
       "      <td>0.12</td>\n",
       "      <td>1.31</td>\n",
       "      <td>1.59</td>\n",
       "      <td>0.07</td>\n",
       "      <td>0.13</td>\n",
       "      <td>2.41</td>\n",
       "      <td>0.126</td>\n",
       "      <td>0.014</td>\n",
       "      <td>0.040</td>\n",
       "      <td>0</td>\n",
       "    </tr>\n",
       "    <tr>\n",
       "      <th>2</th>\n",
       "      <td>0.87</td>\n",
       "      <td>0.31</td>\n",
       "      <td>0.32</td>\n",
       "      <td>0.13</td>\n",
       "      <td>0.08</td>\n",
       "      <td>1.03</td>\n",
       "      <td>1.55</td>\n",
       "      <td>0.05</td>\n",
       "      <td>0.04</td>\n",
       "      <td>2.56</td>\n",
       "      <td>0.368</td>\n",
       "      <td>0.328</td>\n",
       "      <td>0.567</td>\n",
       "      <td>0</td>\n",
       "    </tr>\n",
       "    <tr>\n",
       "      <th>3</th>\n",
       "      <td>1.13</td>\n",
       "      <td>0.71</td>\n",
       "      <td>0.28</td>\n",
       "      <td>0.14</td>\n",
       "      <td>0.08</td>\n",
       "      <td>0.80</td>\n",
       "      <td>1.39</td>\n",
       "      <td>0.06</td>\n",
       "      <td>0.05</td>\n",
       "      <td>5.28</td>\n",
       "      <td>-0.021</td>\n",
       "      <td>-0.119</td>\n",
       "      <td>-0.096</td>\n",
       "      <td>0</td>\n",
       "    </tr>\n",
       "    <tr>\n",
       "      <th>4</th>\n",
       "      <td>1.26</td>\n",
       "      <td>0.75</td>\n",
       "      <td>0.41</td>\n",
       "      <td>0.13</td>\n",
       "      <td>0.08</td>\n",
       "      <td>0.20</td>\n",
       "      <td>1.30</td>\n",
       "      <td>0.06</td>\n",
       "      <td>0.04</td>\n",
       "      <td>8.68</td>\n",
       "      <td>0.233</td>\n",
       "      <td>0.147</td>\n",
       "      <td>0.053</td>\n",
       "      <td>0</td>\n",
       "    </tr>\n",
       "  </tbody>\n",
       "</table>\n",
       "</div>"
      ],
      "text/plain": [
       "   Tobin's Q   EPS  Liquidity  Profitability  Productivity  Leverage Ratio  \\\n",
       "0       0.98  1.58       0.36           0.18          0.13            1.33   \n",
       "1       0.98  1.41       0.36           0.19          0.12            1.31   \n",
       "2       0.87  0.31       0.32           0.13          0.08            1.03   \n",
       "3       1.13  0.71       0.28           0.14          0.08            0.80   \n",
       "4       1.26  0.75       0.41           0.13          0.08            0.20   \n",
       "\n",
       "   Asset Turnover  Operational Margin  Return on Equity  Market Book Ratio  \\\n",
       "0            1.77                0.07              0.15               2.22   \n",
       "1            1.59                0.07              0.13               2.41   \n",
       "2            1.55                0.05              0.04               2.56   \n",
       "3            1.39                0.06              0.05               5.28   \n",
       "4            1.30                0.06              0.04               8.68   \n",
       "\n",
       "   Assets Growth  Sales Growth  Employee Growth  BK  \n",
       "0          0.000         0.000            0.000   0  \n",
       "1          0.126         0.014            0.040   0  \n",
       "2          0.368         0.328            0.567   0  \n",
       "3         -0.021        -0.119           -0.096   0  \n",
       "4          0.233         0.147            0.053   0  "
      ]
     },
     "execution_count": 11,
     "metadata": {},
     "output_type": "execute_result"
    }
   ],
   "source": [
    "df1.head()"
   ]
  },
  {
   "cell_type": "code",
   "execution_count": 12,
   "metadata": {},
   "outputs": [
    {
     "data": {
      "text/plain": [
       "0    92314\n",
       "1      558\n",
       "Name: BK, dtype: int64"
      ]
     },
     "execution_count": 12,
     "metadata": {},
     "output_type": "execute_result"
    }
   ],
   "source": [
    "df1['BK'].value_counts()"
   ]
  },
  {
   "cell_type": "code",
   "execution_count": 13,
   "metadata": {},
   "outputs": [
    {
     "data": {
      "image/png": "[encoded data removed]",
      "text/plain": [
       "<Figure size 576x396 with 2 Axes>"
      ]
     },
     "metadata": {},
     "output_type": "display_data"
    }
   ],
   "source": [
    "corrmat=df1.corr(method='pearson')\n",
    "\n",
    "sn.heatmap(corrmat,annot=True)\n",
    "\n",
    "plt.show()"
   ]
  },
  {
   "cell_type": "code",
   "execution_count": 14,
   "metadata": {},
   "outputs": [
    {
     "name": "stdout",
     "output_type": "stream",
     "text": [
      "<class 'pandas.core.frame.DataFrame'>\n",
      "RangeIndex: 92872 entries, 0 to 92871\n",
      "Data columns (total 14 columns):\n",
      " #   Column              Non-Null Count  Dtype  \n",
      "---  ------              --------------  -----  \n",
      " 0   Tobin's Q           92872 non-null  float64\n",
      " 1   EPS                 92872 non-null  float64\n",
      " 2   Liquidity           92872 non-null  float64\n",
      " 3   Profitability       92872 non-null  float64\n",
      " 4   Productivity        92872 non-null  float64\n",
      " 5   Leverage Ratio      92872 non-null  float64\n",
      " 6   Asset Turnover      92872 non-null  float64\n",
      " 7   Operational Margin  92872 non-null  float64\n",
      " 8   Return on Equity    92872 non-null  float64\n",
      " 9   Market Book Ratio   92872 non-null  float64\n",
      " 10  Assets Growth       92872 non-null  float64\n",
      " 11  Sales Growth        92872 non-null  float64\n",
      " 12  Employee Growth     92872 non-null  float64\n",
      " 13  BK                  92872 non-null  int64  \n",
      "dtypes: float64(13), int64(1)\n",
      "memory usage: 9.9 MB\n"
     ]
    }
   ],
   "source": [
    "df1.info()"
   ]
  },
  {
   "cell_type": "code",
   "execution_count": 15,
   "metadata": {},
   "outputs": [],
   "source": [
    "df1_features=df1.iloc[:,0:13]\n",
    "\n",
    "df1_target=df1.iloc[:,13]"
   ]
  },
  {
   "cell_type": "code",
   "execution_count": 16,
   "metadata": {},
   "outputs": [
    {
     "data": {
      "text/html": [
       "<div>\n",
       "<style scoped>\n",
       "    .dataframe tbody tr th:only-of-type {\n",
       "        vertical-align: middle;\n",
       "    }\n",
       "\n",
       "    .dataframe tbody tr th {\n",
       "        vertical-align: top;\n",
       "    }\n",
       "\n",
       "    .dataframe thead th {\n",
       "        text-align: right;\n",
       "    }\n",
       "</style>\n",
       "<table border=\"1\" class=\"dataframe\">\n",
       "  <thead>\n",
       "    <tr style=\"text-align: right;\">\n",
       "      <th></th>\n",
       "      <th>Tobin's Q</th>\n",
       "      <th>EPS</th>\n",
       "      <th>Liquidity</th>\n",
       "      <th>Profitability</th>\n",
       "      <th>Productivity</th>\n",
       "      <th>Leverage Ratio</th>\n",
       "      <th>Asset Turnover</th>\n",
       "      <th>Operational Margin</th>\n",
       "      <th>Return on Equity</th>\n",
       "      <th>Market Book Ratio</th>\n",
       "      <th>Assets Growth</th>\n",
       "      <th>Sales Growth</th>\n",
       "      <th>Employee Growth</th>\n",
       "    </tr>\n",
       "  </thead>\n",
       "  <tbody>\n",
       "    <tr>\n",
       "      <th>count</th>\n",
       "      <td>92872.000000</td>\n",
       "      <td>92872.000000</td>\n",
       "      <td>92872.000000</td>\n",
       "      <td>92872.000000</td>\n",
       "      <td>92872.000000</td>\n",
       "      <td>92872.000000</td>\n",
       "      <td>92872.000000</td>\n",
       "      <td>92872.000000</td>\n",
       "      <td>92872.000000</td>\n",
       "      <td>9.287200e+04</td>\n",
       "      <td>92872.000000</td>\n",
       "      <td>92872.000000</td>\n",
       "      <td>92872.000000</td>\n",
       "    </tr>\n",
       "    <tr>\n",
       "      <th>mean</th>\n",
       "      <td>25.300171</td>\n",
       "      <td>-14.460577</td>\n",
       "      <td>-2.624239</td>\n",
       "      <td>-29.458717</td>\n",
       "      <td>-1.219618</td>\n",
       "      <td>1.344940</td>\n",
       "      <td>1.050811</td>\n",
       "      <td>-7.441862</td>\n",
       "      <td>-2.112200</td>\n",
       "      <td>3.582862e+02</td>\n",
       "      <td>1.200705</td>\n",
       "      <td>1.763011</td>\n",
       "      <td>0.317407</td>\n",
       "    </tr>\n",
       "    <tr>\n",
       "      <th>std</th>\n",
       "      <td>901.594073</td>\n",
       "      <td>2195.408189</td>\n",
       "      <td>121.449170</td>\n",
       "      <td>676.331196</td>\n",
       "      <td>35.837859</td>\n",
       "      <td>253.002671</td>\n",
       "      <td>2.113826</td>\n",
       "      <td>207.953408</td>\n",
       "      <td>352.581716</td>\n",
       "      <td>2.605564e+04</td>\n",
       "      <td>71.059112</td>\n",
       "      <td>171.104938</td>\n",
       "      <td>13.532874</td>\n",
       "    </tr>\n",
       "    <tr>\n",
       "      <th>min</th>\n",
       "      <td>0.000000</td>\n",
       "      <td>-384000.000000</td>\n",
       "      <td>-25968.520000</td>\n",
       "      <td>-79682.000000</td>\n",
       "      <td>-5093.000000</td>\n",
       "      <td>-7811.000000</td>\n",
       "      <td>-31.590000</td>\n",
       "      <td>-30175.700000</td>\n",
       "      <td>-88875.140000</td>\n",
       "      <td>-3.151500e+06</td>\n",
       "      <td>-1.000000</td>\n",
       "      <td>-27.431000</td>\n",
       "      <td>-1.000000</td>\n",
       "    </tr>\n",
       "    <tr>\n",
       "      <th>25%</th>\n",
       "      <td>1.120000</td>\n",
       "      <td>-0.140000</td>\n",
       "      <td>0.020000</td>\n",
       "      <td>-0.630000</td>\n",
       "      <td>-0.060000</td>\n",
       "      <td>0.000000</td>\n",
       "      <td>0.380000</td>\n",
       "      <td>-0.020000</td>\n",
       "      <td>-0.080000</td>\n",
       "      <td>1.116000e+01</td>\n",
       "      <td>-0.041000</td>\n",
       "      <td>-0.021000</td>\n",
       "      <td>-0.039000</td>\n",
       "    </tr>\n",
       "    <tr>\n",
       "      <th>50%</th>\n",
       "      <td>1.540000</td>\n",
       "      <td>0.330000</td>\n",
       "      <td>0.190000</td>\n",
       "      <td>0.070000</td>\n",
       "      <td>0.060000</td>\n",
       "      <td>0.280000</td>\n",
       "      <td>0.820000</td>\n",
       "      <td>0.060000</td>\n",
       "      <td>0.030000</td>\n",
       "      <td>5.817000e+01</td>\n",
       "      <td>0.037000</td>\n",
       "      <td>0.044000</td>\n",
       "      <td>0.003000</td>\n",
       "    </tr>\n",
       "    <tr>\n",
       "      <th>75%</th>\n",
       "      <td>2.580000</td>\n",
       "      <td>1.530000</td>\n",
       "      <td>0.400000</td>\n",
       "      <td>0.310000</td>\n",
       "      <td>0.110000</td>\n",
       "      <td>0.820000</td>\n",
       "      <td>1.380000</td>\n",
       "      <td>0.130000</td>\n",
       "      <td>0.070000</td>\n",
       "      <td>2.400150e+02</td>\n",
       "      <td>0.175000</td>\n",
       "      <td>0.187000</td>\n",
       "      <td>0.116000</td>\n",
       "    </tr>\n",
       "    <tr>\n",
       "      <th>max</th>\n",
       "      <td>194537.670000</td>\n",
       "      <td>55339.000000</td>\n",
       "      <td>1.000000</td>\n",
       "      <td>140.580000</td>\n",
       "      <td>1102.000000</td>\n",
       "      <td>75970.380000</td>\n",
       "      <td>276.380000</td>\n",
       "      <td>394.470000</td>\n",
       "      <td>39500.000000</td>\n",
       "      <td>3.455419e+06</td>\n",
       "      <td>14231.000000</td>\n",
       "      <td>39850.000000</td>\n",
       "      <td>2699.000000</td>\n",
       "    </tr>\n",
       "  </tbody>\n",
       "</table>\n",
       "</div>"
      ],
      "text/plain": [
       "           Tobin's Q            EPS     Liquidity  Profitability  \\\n",
       "count   92872.000000   92872.000000  92872.000000   92872.000000   \n",
       "mean       25.300171     -14.460577     -2.624239     -29.458717   \n",
       "std       901.594073    2195.408189    121.449170     676.331196   \n",
       "min         0.000000 -384000.000000 -25968.520000  -79682.000000   \n",
       "25%         1.120000      -0.140000      0.020000      -0.630000   \n",
       "50%         1.540000       0.330000      0.190000       0.070000   \n",
       "75%         2.580000       1.530000      0.400000       0.310000   \n",
       "max    194537.670000   55339.000000      1.000000     140.580000   \n",
       "\n",
       "       Productivity  Leverage Ratio  Asset Turnover  Operational Margin  \\\n",
       "count  92872.000000    92872.000000    92872.000000        92872.000000   \n",
       "mean      -1.219618        1.344940        1.050811           -7.441862   \n",
       "std       35.837859      253.002671        2.113826          207.953408   \n",
       "min    -5093.000000    -7811.000000      -31.590000       -30175.700000   \n",
       "25%       -0.060000        0.000000        0.380000           -0.020000   \n",
       "50%        0.060000        0.280000        0.820000            0.060000   \n",
       "75%        0.110000        0.820000        1.380000            0.130000   \n",
       "max     1102.000000    75970.380000      276.380000          394.470000   \n",
       "\n",
       "       Return on Equity  Market Book Ratio  Assets Growth  Sales Growth  \\\n",
       "count      92872.000000       9.287200e+04   92872.000000  92872.000000   \n",
       "mean          -2.112200       3.582862e+02       1.200705      1.763011   \n",
       "std          352.581716       2.605564e+04      71.059112    171.104938   \n",
       "min       -88875.140000      -3.151500e+06      -1.000000    -27.431000   \n",
       "25%           -0.080000       1.116000e+01      -0.041000     -0.021000   \n",
       "50%            0.030000       5.817000e+01       0.037000      0.044000   \n",
       "75%            0.070000       2.400150e+02       0.175000      0.187000   \n",
       "max        39500.000000       3.455419e+06   14231.000000  39850.000000   \n",
       "\n",
       "       Employee Growth  \n",
       "count     92872.000000  \n",
       "mean          0.317407  \n",
       "std          13.532874  \n",
       "min          -1.000000  \n",
       "25%          -0.039000  \n",
       "50%           0.003000  \n",
       "75%           0.116000  \n",
       "max        2699.000000  "
      ]
     },
     "execution_count": 16,
     "metadata": {},
     "output_type": "execute_result"
    }
   ],
   "source": [
    "#Comapring the data after replacing with mean values\n",
    "df1_features.describe()"
   ]
  },
  {
   "cell_type": "code",
   "execution_count": 17,
   "metadata": {},
   "outputs": [
    {
     "data": {
      "text/html": [
       "<div>\n",
       "<style scoped>\n",
       "    .dataframe tbody tr th:only-of-type {\n",
       "        vertical-align: middle;\n",
       "    }\n",
       "\n",
       "    .dataframe tbody tr th {\n",
       "        vertical-align: top;\n",
       "    }\n",
       "\n",
       "    .dataframe thead th {\n",
       "        text-align: right;\n",
       "    }\n",
       "</style>\n",
       "<table border=\"1\" class=\"dataframe\">\n",
       "  <thead>\n",
       "    <tr style=\"text-align: right;\">\n",
       "      <th></th>\n",
       "      <th>Data Year - Fiscal</th>\n",
       "      <th>Tobin's Q</th>\n",
       "      <th>EPS</th>\n",
       "      <th>Liquidity</th>\n",
       "      <th>Profitability</th>\n",
       "      <th>Productivity</th>\n",
       "      <th>Leverage Ratio</th>\n",
       "      <th>Asset Turnover</th>\n",
       "      <th>Operational Margin</th>\n",
       "      <th>Return on Equity</th>\n",
       "      <th>Market Book Ratio</th>\n",
       "      <th>Assets Growth</th>\n",
       "      <th>Sales Growth</th>\n",
       "      <th>Employee Growth</th>\n",
       "      <th>BK</th>\n",
       "    </tr>\n",
       "  </thead>\n",
       "  <tbody>\n",
       "    <tr>\n",
       "      <th>count</th>\n",
       "      <td>92872.000000</td>\n",
       "      <td>92872.000000</td>\n",
       "      <td>92872.000000</td>\n",
       "      <td>92872.000000</td>\n",
       "      <td>92872.000000</td>\n",
       "      <td>92872.000000</td>\n",
       "      <td>92872.000000</td>\n",
       "      <td>92872.000000</td>\n",
       "      <td>92872.000000</td>\n",
       "      <td>92872.000000</td>\n",
       "      <td>9.287200e+04</td>\n",
       "      <td>92872.000000</td>\n",
       "      <td>92872.000000</td>\n",
       "      <td>92872.000000</td>\n",
       "      <td>92872.000000</td>\n",
       "    </tr>\n",
       "    <tr>\n",
       "      <th>mean</th>\n",
       "      <td>2004.105888</td>\n",
       "      <td>25.300171</td>\n",
       "      <td>-14.460577</td>\n",
       "      <td>-2.624239</td>\n",
       "      <td>-29.458717</td>\n",
       "      <td>-1.219618</td>\n",
       "      <td>1.344940</td>\n",
       "      <td>1.050811</td>\n",
       "      <td>-7.441862</td>\n",
       "      <td>-2.112200</td>\n",
       "      <td>3.582862e+02</td>\n",
       "      <td>1.200705</td>\n",
       "      <td>1.763011</td>\n",
       "      <td>0.317407</td>\n",
       "      <td>0.006008</td>\n",
       "    </tr>\n",
       "    <tr>\n",
       "      <th>std</th>\n",
       "      <td>9.875926</td>\n",
       "      <td>901.594073</td>\n",
       "      <td>2195.408189</td>\n",
       "      <td>121.449170</td>\n",
       "      <td>676.331196</td>\n",
       "      <td>35.837859</td>\n",
       "      <td>253.002671</td>\n",
       "      <td>2.113826</td>\n",
       "      <td>207.953408</td>\n",
       "      <td>352.581716</td>\n",
       "      <td>2.605564e+04</td>\n",
       "      <td>71.059112</td>\n",
       "      <td>171.104938</td>\n",
       "      <td>13.532874</td>\n",
       "      <td>0.077280</td>\n",
       "    </tr>\n",
       "    <tr>\n",
       "      <th>min</th>\n",
       "      <td>1979.000000</td>\n",
       "      <td>0.000000</td>\n",
       "      <td>-384000.000000</td>\n",
       "      <td>-25968.520000</td>\n",
       "      <td>-79682.000000</td>\n",
       "      <td>-5093.000000</td>\n",
       "      <td>-7811.000000</td>\n",
       "      <td>-31.590000</td>\n",
       "      <td>-30175.700000</td>\n",
       "      <td>-88875.140000</td>\n",
       "      <td>-3.151500e+06</td>\n",
       "      <td>-1.000000</td>\n",
       "      <td>-27.431000</td>\n",
       "      <td>-1.000000</td>\n",
       "      <td>0.000000</td>\n",
       "    </tr>\n",
       "    <tr>\n",
       "      <th>25%</th>\n",
       "      <td>1998.000000</td>\n",
       "      <td>1.120000</td>\n",
       "      <td>-0.140000</td>\n",
       "      <td>0.020000</td>\n",
       "      <td>-0.630000</td>\n",
       "      <td>-0.060000</td>\n",
       "      <td>0.000000</td>\n",
       "      <td>0.380000</td>\n",
       "      <td>-0.020000</td>\n",
       "      <td>-0.080000</td>\n",
       "      <td>1.116000e+01</td>\n",
       "      <td>-0.041000</td>\n",
       "      <td>-0.021000</td>\n",
       "      <td>-0.039000</td>\n",
       "      <td>0.000000</td>\n",
       "    </tr>\n",
       "    <tr>\n",
       "      <th>50%</th>\n",
       "      <td>2006.000000</td>\n",
       "      <td>1.540000</td>\n",
       "      <td>0.330000</td>\n",
       "      <td>0.190000</td>\n",
       "      <td>0.070000</td>\n",
       "      <td>0.060000</td>\n",
       "      <td>0.280000</td>\n",
       "      <td>0.820000</td>\n",
       "      <td>0.060000</td>\n",
       "      <td>0.030000</td>\n",
       "      <td>5.817000e+01</td>\n",
       "      <td>0.037000</td>\n",
       "      <td>0.044000</td>\n",
       "      <td>0.003000</td>\n",
       "      <td>0.000000</td>\n",
       "    </tr>\n",
       "    <tr>\n",
       "      <th>75%</th>\n",
       "      <td>2012.000000</td>\n",
       "      <td>2.580000</td>\n",
       "      <td>1.530000</td>\n",
       "      <td>0.400000</td>\n",
       "      <td>0.310000</td>\n",
       "      <td>0.110000</td>\n",
       "      <td>0.820000</td>\n",
       "      <td>1.380000</td>\n",
       "      <td>0.130000</td>\n",
       "      <td>0.070000</td>\n",
       "      <td>2.400150e+02</td>\n",
       "      <td>0.175000</td>\n",
       "      <td>0.187000</td>\n",
       "      <td>0.116000</td>\n",
       "      <td>0.000000</td>\n",
       "    </tr>\n",
       "    <tr>\n",
       "      <th>max</th>\n",
       "      <td>2017.000000</td>\n",
       "      <td>194537.670000</td>\n",
       "      <td>55339.000000</td>\n",
       "      <td>1.000000</td>\n",
       "      <td>140.580000</td>\n",
       "      <td>1102.000000</td>\n",
       "      <td>75970.380000</td>\n",
       "      <td>276.380000</td>\n",
       "      <td>394.470000</td>\n",
       "      <td>39500.000000</td>\n",
       "      <td>3.455419e+06</td>\n",
       "      <td>14231.000000</td>\n",
       "      <td>39850.000000</td>\n",
       "      <td>2699.000000</td>\n",
       "      <td>1.000000</td>\n",
       "    </tr>\n",
       "  </tbody>\n",
       "</table>\n",
       "</div>"
      ],
      "text/plain": [
       "       Data Year - Fiscal      Tobin's Q            EPS     Liquidity  \\\n",
       "count        92872.000000   92872.000000   92872.000000  92872.000000   \n",
       "mean          2004.105888      25.300171     -14.460577     -2.624239   \n",
       "std              9.875926     901.594073    2195.408189    121.449170   \n",
       "min           1979.000000       0.000000 -384000.000000 -25968.520000   \n",
       "25%           1998.000000       1.120000      -0.140000      0.020000   \n",
       "50%           2006.000000       1.540000       0.330000      0.190000   \n",
       "75%           2012.000000       2.580000       1.530000      0.400000   \n",
       "max           2017.000000  194537.670000   55339.000000      1.000000   \n",
       "\n",
       "       Profitability  Productivity  Leverage Ratio  Asset Turnover  \\\n",
       "count   92872.000000  92872.000000    92872.000000    92872.000000   \n",
       "mean      -29.458717     -1.219618        1.344940        1.050811   \n",
       "std       676.331196     35.837859      253.002671        2.113826   \n",
       "min    -79682.000000  -5093.000000    -7811.000000      -31.590000   \n",
       "25%        -0.630000     -0.060000        0.000000        0.380000   \n",
       "50%         0.070000      0.060000        0.280000        0.820000   \n",
       "75%         0.310000      0.110000        0.820000        1.380000   \n",
       "max       140.580000   1102.000000    75970.380000      276.380000   \n",
       "\n",
       "       Operational Margin  Return on Equity  Market Book Ratio  Assets Growth  \\\n",
       "count        92872.000000      92872.000000       9.287200e+04   92872.000000   \n",
       "mean            -7.441862         -2.112200       3.582862e+02       1.200705   \n",
       "std            207.953408        352.581716       2.605564e+04      71.059112   \n",
       "min         -30175.700000     -88875.140000      -3.151500e+06      -1.000000   \n",
       "25%             -0.020000         -0.080000       1.116000e+01      -0.041000   \n",
       "50%              0.060000          0.030000       5.817000e+01       0.037000   \n",
       "75%              0.130000          0.070000       2.400150e+02       0.175000   \n",
       "max            394.470000      39500.000000       3.455419e+06   14231.000000   \n",
       "\n",
       "       Sales Growth  Employee Growth            BK  \n",
       "count  92872.000000     92872.000000  92872.000000  \n",
       "mean       1.763011         0.317407      0.006008  \n",
       "std      171.104938        13.532874      0.077280  \n",
       "min      -27.431000        -1.000000      0.000000  \n",
       "25%       -0.021000        -0.039000      0.000000  \n",
       "50%        0.044000         0.003000      0.000000  \n",
       "75%        0.187000         0.116000      0.000000  \n",
       "max    39850.000000      2699.000000      1.000000  "
      ]
     },
     "execution_count": 17,
     "metadata": {},
     "output_type": "execute_result"
    }
   ],
   "source": [
    "#Comapring the data after replacing with mean values\n",
    "df.describe()"
   ]
  },
  {
   "cell_type": "code",
   "execution_count": 18,
   "metadata": {},
   "outputs": [
    {
     "data": {
      "text/plain": [
       "0    92314\n",
       "1      558\n",
       "Name: BK, dtype: int64"
      ]
     },
     "execution_count": 18,
     "metadata": {},
     "output_type": "execute_result"
    }
   ],
   "source": [
    "df1_target.value_counts()"
   ]
  },
  {
   "cell_type": "code",
   "execution_count": 19,
   "metadata": {},
   "outputs": [],
   "source": [
    "\n",
    "# Split the data into training and testing sets\n",
    "\n",
    "train_features, test_features, train_target, test_target = train_test_split(df1_features, df1_target, test_size = 0.25,random_state=42,stratify=df1['BK'].values)\n"
   ]
  },
  {
   "cell_type": "code",
   "execution_count": 20,
   "metadata": {},
   "outputs": [
    {
     "ename": "NameError",
     "evalue": "name 'train_features_new' is not defined",
     "output_type": "error",
     "traceback": [
      "\u001b[1;31m---------------------------------------------------------------------------\u001b[0m",
      "\u001b[1;31mNameError\u001b[0m                                 Traceback (most recent call last)",
      "\u001b[1;32m<ipython-input-20-1341039ecdbc>\u001b[0m in \u001b[0;36m<module>\u001b[1;34m\u001b[0m\n\u001b[1;32m----> 1\u001b[1;33m \u001b[1;33m(\u001b[0m\u001b[0mtrain_features_new\u001b[0m\u001b[1;33m)\u001b[0m\u001b[1;33m.\u001b[0m\u001b[0minfo\u001b[0m\u001b[1;33m(\u001b[0m\u001b[1;33m)\u001b[0m\u001b[1;33m\u001b[0m\u001b[1;33m\u001b[0m\u001b[0m\n\u001b[0m",
      "\u001b[1;31mNameError\u001b[0m: name 'train_features_new' is not defined"
     ]
    }
   ],
   "source": [
    "(train_features_new).info()"
   ]
  },
  {
   "cell_type": "code",
   "execution_count": 21,
   "metadata": {},
   "outputs": [],
   "source": [
    "#SMOTE sampling\n",
    "\n",
    "#sm = SMOTE(random_state = 42)\n",
    "\n",
    "#train_features_new, train_target_new = sm.fit_sample(train_features, train_target.ravel())"
   ]
  },
  {
   "cell_type": "code",
   "execution_count": 22,
   "metadata": {},
   "outputs": [],
   "source": [
    "#Downsampling \n",
    "\n",
    "\n",
    "rus = RandomUnderSampler(random_state=42,replacement=False)\n",
    "train_features_new, train_target_new = rus.fit_resample(train_features, train_target)"
   ]
  },
  {
   "cell_type": "code",
   "execution_count": 23,
   "metadata": {},
   "outputs": [
    {
     "data": {
      "text/plain": [
       "1    419\n",
       "0    419\n",
       "Name: BK, dtype: int64"
      ]
     },
     "execution_count": 23,
     "metadata": {},
     "output_type": "execute_result"
    }
   ],
   "source": [
    "pd.Series(train_target_new).value_counts()"
   ]
  },
  {
   "cell_type": "code",
   "execution_count": null,
   "metadata": {},
   "outputs": [],
   "source": [
    "\n",
    "\n",
    "#scaler=StandardScaler()\n",
    "\n",
    "#train_features_new=scaler.fit_transform(train_features_new)\n",
    "\n",
    "#test_features=scaler.fit_transform(test_features)"
   ]
  },
  {
   "cell_type": "code",
   "execution_count": 23,
   "metadata": {},
   "outputs": [
    {
     "name": "stdout",
     "output_type": "stream",
     "text": [
      "{'n_estimators': [5, 10, 15, 20, 25, 30, 35, 40, 45, 50], 'max_features': ['auto'], 'max_depth': [10, 12, 15, 17, 20, None], 'min_samples_split': [2, 3, 4], 'min_samples_leaf': [1, 2, 4], 'bootstrap': [True]}\n"
     ]
    }
   ],
   "source": [
    "# Number of trees in random forest\n",
    "n_estimators = [int(x) for x in np.linspace(start = 5, stop = 50, num = 10)]\n",
    "# Number of features to consider at every split\n",
    "max_features = ['auto']\n",
    "# Maximum number of levels in tree\n",
    "max_depth = [int(x) for x in np.linspace(10, 20, num = 5)]\n",
    "max_depth.append(None)\n",
    "# Minimum number of samples required to split a node\n",
    "min_samples_split = [2, 3, 4]\n",
    "# Minimum number of samples required at each leaf node\n",
    "min_samples_leaf = [1, 2, 4]\n",
    "# Method of selecting samples for training each tree\n",
    "bootstrap = [True]\n",
    "# Create the random grid\n",
    "random_grid = {'n_estimators': n_estimators,\n",
    "'max_features': max_features,\n",
    "'max_depth': max_depth,\n",
    "'min_samples_split': min_samples_split,\n",
    "'min_samples_leaf': min_samples_leaf,\n",
    "'bootstrap': bootstrap}\n",
    "\n",
    "print(random_grid)\n"
   ]
  },
  {
   "cell_type": "code",
   "execution_count": 24,
   "metadata": {},
   "outputs": [
    {
     "name": "stdout",
     "output_type": "stream",
     "text": [
      "Fitting 3 folds for each of 540 candidates, totalling 1620 fits\n"
     ]
    },
    {
     "name": "stderr",
     "output_type": "stream",
     "text": [
      "[Parallel(n_jobs=-1)]: Using backend LokyBackend with 4 concurrent workers.\n",
      "[Parallel(n_jobs=-1)]: Done   5 tasks      | elapsed:   50.2s\n",
      "[Parallel(n_jobs=-1)]: Done  10 tasks      | elapsed:   54.5s\n",
      "[Parallel(n_jobs=-1)]: Done  17 tasks      | elapsed:  1.0min\n",
      "[Parallel(n_jobs=-1)]: Done  24 tasks      | elapsed:  1.1min\n",
      "[Parallel(n_jobs=-1)]: Done  33 tasks      | elapsed:  1.1min\n",
      "[Parallel(n_jobs=-1)]: Done  42 tasks      | elapsed:  1.3min\n",
      "[Parallel(n_jobs=-1)]: Done  53 tasks      | elapsed:  1.4min\n",
      "[Parallel(n_jobs=-1)]: Done  64 tasks      | elapsed:  1.5min\n",
      "[Parallel(n_jobs=-1)]: Done  77 tasks      | elapsed:  1.6min\n",
      "[Parallel(n_jobs=-1)]: Done  90 tasks      | elapsed:  1.8min\n",
      "[Parallel(n_jobs=-1)]: Done 105 tasks      | elapsed:  1.9min\n",
      "[Parallel(n_jobs=-1)]: Done 120 tasks      | elapsed:  2.1min\n",
      "[Parallel(n_jobs=-1)]: Done 137 tasks      | elapsed:  2.2min\n",
      "[Parallel(n_jobs=-1)]: Done 154 tasks      | elapsed:  2.4min\n",
      "[Parallel(n_jobs=-1)]: Done 173 tasks      | elapsed:  2.6min\n",
      "[Parallel(n_jobs=-1)]: Done 192 tasks      | elapsed:  2.8min\n",
      "[Parallel(n_jobs=-1)]: Done 213 tasks      | elapsed:  3.0min\n",
      "[Parallel(n_jobs=-1)]: Done 234 tasks      | elapsed:  3.3min\n",
      "[Parallel(n_jobs=-1)]: Done 257 tasks      | elapsed:  3.4min\n",
      "[Parallel(n_jobs=-1)]: Done 280 tasks      | elapsed:  3.7min\n",
      "[Parallel(n_jobs=-1)]: Done 305 tasks      | elapsed:  3.9min\n",
      "[Parallel(n_jobs=-1)]: Done 330 tasks      | elapsed:  4.3min\n",
      "[Parallel(n_jobs=-1)]: Done 357 tasks      | elapsed:  4.6min\n",
      "[Parallel(n_jobs=-1)]: Done 384 tasks      | elapsed:  4.8min\n",
      "[Parallel(n_jobs=-1)]: Done 413 tasks      | elapsed:  5.2min\n",
      "[Parallel(n_jobs=-1)]: Done 442 tasks      | elapsed:  5.5min\n",
      "[Parallel(n_jobs=-1)]: Done 473 tasks      | elapsed:  5.8min\n",
      "[Parallel(n_jobs=-1)]: Done 504 tasks      | elapsed:  6.1min\n",
      "[Parallel(n_jobs=-1)]: Done 537 tasks      | elapsed:  6.5min\n",
      "[Parallel(n_jobs=-1)]: Done 570 tasks      | elapsed:  6.8min\n",
      "[Parallel(n_jobs=-1)]: Done 605 tasks      | elapsed:  7.3min\n",
      "[Parallel(n_jobs=-1)]: Done 640 tasks      | elapsed:  7.8min\n",
      "[Parallel(n_jobs=-1)]: Done 677 tasks      | elapsed:  8.3min\n",
      "[Parallel(n_jobs=-1)]: Done 714 tasks      | elapsed:  8.7min\n",
      "[Parallel(n_jobs=-1)]: Done 753 tasks      | elapsed:  9.0min\n",
      "[Parallel(n_jobs=-1)]: Done 792 tasks      | elapsed:  9.3min\n",
      "[Parallel(n_jobs=-1)]: Done 833 tasks      | elapsed:  9.6min\n",
      "[Parallel(n_jobs=-1)]: Done 874 tasks      | elapsed: 10.2min\n",
      "[Parallel(n_jobs=-1)]: Done 917 tasks      | elapsed: 10.6min\n",
      "[Parallel(n_jobs=-1)]: Done 960 tasks      | elapsed: 10.9min\n",
      "[Parallel(n_jobs=-1)]: Done 1005 tasks      | elapsed: 11.2min\n",
      "[Parallel(n_jobs=-1)]: Done 1050 tasks      | elapsed: 11.6min\n",
      "[Parallel(n_jobs=-1)]: Done 1097 tasks      | elapsed: 12.0min\n",
      "[Parallel(n_jobs=-1)]: Done 1144 tasks      | elapsed: 12.3min\n",
      "[Parallel(n_jobs=-1)]: Done 1193 tasks      | elapsed: 12.8min\n",
      "[Parallel(n_jobs=-1)]: Done 1242 tasks      | elapsed: 13.3min\n",
      "[Parallel(n_jobs=-1)]: Done 1293 tasks      | elapsed: 13.8min\n",
      "[Parallel(n_jobs=-1)]: Done 1344 tasks      | elapsed: 14.2min\n",
      "[Parallel(n_jobs=-1)]: Done 1397 tasks      | elapsed: 14.8min\n",
      "[Parallel(n_jobs=-1)]: Done 1450 tasks      | elapsed: 15.2min\n",
      "[Parallel(n_jobs=-1)]: Done 1505 tasks      | elapsed: 15.8min\n",
      "[Parallel(n_jobs=-1)]: Done 1560 tasks      | elapsed: 16.3min\n",
      "[Parallel(n_jobs=-1)]: Done 1620 out of 1620 | elapsed: 16.8min finished\n"
     ]
    },
    {
     "data": {
      "text/plain": [
       "GridSearchCV(cv=3, estimator=RandomForestClassifier(random_state=42), n_jobs=-1,\n",
       "             param_grid={'bootstrap': [True],\n",
       "                         'max_depth': [10, 12, 15, 17, 20, None],\n",
       "                         'max_features': ['auto'],\n",
       "                         'min_samples_leaf': [1, 2, 4],\n",
       "                         'min_samples_split': [2, 3, 4],\n",
       "                         'n_estimators': [5, 10, 15, 20, 25, 30, 35, 40, 45,\n",
       "                                          50]},\n",
       "             scoring='roc_auc', verbose=10)"
      ]
     },
     "execution_count": 24,
     "metadata": {},
     "output_type": "execute_result"
    }
   ],
   "source": [
    "# Use the GridSearch to search for best hyperparameters\n",
    "\n",
    "rf_model = RFC(random_state=42)\n",
    "\n",
    "rf = GridSearchCV(rf_model,random_grid, cv=3,verbose=10,scoring='roc_auc',n_jobs=-1)\n",
    "\n",
    "# Fit the random search model\n",
    "rf.fit(train_features_new, train_target_new)"
   ]
  },
  {
   "cell_type": "code",
   "execution_count": 25,
   "metadata": {},
   "outputs": [
    {
     "data": {
      "text/plain": [
       "{'bootstrap': True,\n",
       " 'max_depth': 10,\n",
       " 'max_features': 'auto',\n",
       " 'min_samples_leaf': 1,\n",
       " 'min_samples_split': 4,\n",
       " 'n_estimators': 50}"
      ]
     },
     "execution_count": 25,
     "metadata": {},
     "output_type": "execute_result"
    }
   ],
   "source": [
    "rf.best_params_"
   ]
  },
  {
   "cell_type": "code",
   "execution_count": 26,
   "metadata": {},
   "outputs": [
    {
     "data": {
      "text/plain": [
       "RandomForestClassifier(max_depth=10, min_samples_split=4, n_estimators=50,\n",
       "                       random_state=42)"
      ]
     },
     "execution_count": 26,
     "metadata": {},
     "output_type": "execute_result"
    }
   ],
   "source": [
    "rf.best_estimator_"
   ]
  },
  {
   "cell_type": "code",
   "execution_count": 27,
   "metadata": {},
   "outputs": [],
   "source": [
    "rf_pred=rf.predict(test_features)"
   ]
  },
  {
   "cell_type": "code",
   "execution_count": 28,
   "metadata": {},
   "outputs": [
    {
     "data": {
      "image/png": "[encoded data removed]",
      "text/plain": [
       "<Figure size 576x396 with 2 Axes>"
      ]
     },
     "metadata": {},
     "output_type": "display_data"
    }
   ],
   "source": [
    "cm_rf=mt.confusion_matrix(test_target,rf_pred,labels=[0,1])\n",
    "\n",
    "#Bakrupt:1, Not_Bankrupt:0\n",
    "ax= plt.subplot() \n",
    "sn.heatmap(cm_rf, annot=True, ax = ax,fmt='g'); #annot=True to annotate cells \n",
    "# labels, title and ticks \n",
    "ax.set_xlabel('Predicted labels');\n",
    "ax.set_ylabel('True labels'); \n",
    "ax.set_title('Confusion Matrix'); \n",
    "ax.xaxis.set_ticklabels(['Not_Bankrupt', 'Bankrupt']); \n",
    "ax.yaxis.set_ticklabels(['Not_Bankrupt', 'Bankrupt']);"
   ]
  },
  {
   "cell_type": "code",
   "execution_count": 29,
   "metadata": {},
   "outputs": [
    {
     "data": {
      "text/plain": [
       "0.8308866230816205"
      ]
     },
     "execution_count": 29,
     "metadata": {},
     "output_type": "execute_result"
    }
   ],
   "source": [
    "mt.roc_auc_score(test_target,rf_pred)"
   ]
  },
  {
   "cell_type": "code",
   "execution_count": 30,
   "metadata": {},
   "outputs": [
    {
     "data": {
      "text/plain": [
       "0.06041165463779738"
      ]
     },
     "execution_count": 30,
     "metadata": {},
     "output_type": "execute_result"
    }
   ],
   "source": [
    "mt.f1_score(test_target,rf_pred)"
   ]
  },
  {
   "cell_type": "code",
   "execution_count": 31,
   "metadata": {},
   "outputs": [
    {
     "data": {
      "text/plain": [
       "0.031371460299833426"
      ]
     },
     "execution_count": 31,
     "metadata": {},
     "output_type": "execute_result"
    }
   ],
   "source": [
    "mt.precision_score(test_target,rf_pred)"
   ]
  },
  {
   "cell_type": "code",
   "execution_count": 32,
   "metadata": {},
   "outputs": [
    {
     "data": {
      "text/plain": [
       "0.8129496402877698"
      ]
     },
     "execution_count": 32,
     "metadata": {},
     "output_type": "execute_result"
    }
   ],
   "source": [
    "mt.recall_score(test_target,rf_pred)"
   ]
  },
  {
   "cell_type": "code",
   "execution_count": 33,
   "metadata": {},
   "outputs": [
    {
     "name": "stdout",
     "output_type": "stream",
     "text": [
      "Fitting 5 folds for each of 35 candidates, totalling 175 fits\n"
     ]
    },
    {
     "name": "stderr",
     "output_type": "stream",
     "text": [
      "[Parallel(n_jobs=-1)]: Using backend LokyBackend with 4 concurrent workers.\n",
      "[Parallel(n_jobs=-1)]: Done   5 tasks      | elapsed:    1.3s\n",
      "[Parallel(n_jobs=-1)]: Done  10 tasks      | elapsed:    2.9s\n",
      "[Parallel(n_jobs=-1)]: Done  17 tasks      | elapsed:    6.1s\n",
      "[Parallel(n_jobs=-1)]: Done  24 tasks      | elapsed:    8.7s\n",
      "[Parallel(n_jobs=-1)]: Done  33 tasks      | elapsed:   12.3s\n",
      "[Parallel(n_jobs=-1)]: Done  42 tasks      | elapsed:   17.1s\n",
      "[Parallel(n_jobs=-1)]: Done  53 tasks      | elapsed:   21.6s\n",
      "[Parallel(n_jobs=-1)]: Done  64 tasks      | elapsed:   34.0s\n",
      "[Parallel(n_jobs=-1)]: Done  77 tasks      | elapsed:   41.7s\n",
      "[Parallel(n_jobs=-1)]: Done  90 tasks      | elapsed:   49.5s\n",
      "[Parallel(n_jobs=-1)]: Done 105 tasks      | elapsed:   59.9s\n",
      "[Parallel(n_jobs=-1)]: Done 120 tasks      | elapsed:  1.1min\n",
      "[Parallel(n_jobs=-1)]: Done 137 tasks      | elapsed:  1.3min\n",
      "[Parallel(n_jobs=-1)]: Done 154 tasks      | elapsed:  1.5min\n",
      "[Parallel(n_jobs=-1)]: Done 175 out of 175 | elapsed:  1.8min finished\n"
     ]
    },
    {
     "data": {
      "text/plain": [
       "GridSearchCV(estimator=SVC(random_state=42), n_jobs=-1,\n",
       "             param_grid={'C': [0.1, 1, 10, 20, 90, 100, 120],\n",
       "                         'gamma': [1, 0.1, 0.01, 0.001, 0.0001],\n",
       "                         'kernel': ['rbf']},\n",
       "             verbose=10)"
      ]
     },
     "execution_count": 33,
     "metadata": {},
     "output_type": "execute_result"
    }
   ],
   "source": [
    "# Defining SVM hyperparameter range\n",
    "svm_grid = {'C': [0.1, 1, 10, 20, 90,100,120], \n",
    "              'gamma': [1, 0.1, 0.01, 0.001, 0.0001],\n",
    "              'kernel': ['rbf']} \n",
    "svm_model=SVC(random_state=42)  \n",
    "svm = GridSearchCV(svm_model, svm_grid, refit = True, verbose = 10,n_jobs=-1,scoring='roc_auc')\n",
    "  \n",
    "# fitting the model for grid search\n",
    "svm.fit(train_features_new, train_target_new)"
   ]
  },
  {
   "cell_type": "code",
   "execution_count": 34,
   "metadata": {},
   "outputs": [
    {
     "data": {
      "text/plain": [
       "{'C': 90, 'gamma': 0.001, 'kernel': 'rbf'}"
      ]
     },
     "execution_count": 34,
     "metadata": {},
     "output_type": "execute_result"
    }
   ],
   "source": [
    "svm.best_params_ "
   ]
  },
  {
   "cell_type": "code",
   "execution_count": 35,
   "metadata": {},
   "outputs": [
    {
     "data": {
      "text/plain": [
       "SVC(C=90, gamma=0.001, random_state=42)"
      ]
     },
     "execution_count": 35,
     "metadata": {},
     "output_type": "execute_result"
    }
   ],
   "source": [
    "svm.best_estimator_"
   ]
  },
  {
   "cell_type": "code",
   "execution_count": 36,
   "metadata": {},
   "outputs": [],
   "source": [
    "svm_predictions=svm.predict(test_features)"
   ]
  },
  {
   "cell_type": "code",
   "execution_count": 37,
   "metadata": {},
   "outputs": [
    {
     "data": {
      "image/png": "[encoded data removed]",
      "text/plain": [
       "<Figure size 576x396 with 2 Axes>"
      ]
     },
     "metadata": {},
     "output_type": "display_data"
    }
   ],
   "source": [
    "cm_svm=mt.confusion_matrix(test_target,svm_predictions,labels=[0,1])\n",
    "\n",
    "#Bankrupt:1, Not_Bankrupt:0\n",
    "ax= plt.subplot() \n",
    "sn.heatmap(cm_svm, annot=True, ax = ax,fmt='g'); #annot=True to annotate cells \n",
    "# labels, title and ticks \n",
    "ax.set_xlabel('Predicted labels');\n",
    "ax.set_ylabel('True labels'); \n",
    "ax.set_title('Confusion Matrix'); \n",
    "ax.xaxis.set_ticklabels(['Not_Bankrupt', 'Bankrupt']); \n",
    "ax.yaxis.set_ticklabels(['Not_Bankrupt', 'Bankrupt']);\n",
    "\n"
   ]
  },
  {
   "cell_type": "code",
   "execution_count": 38,
   "metadata": {},
   "outputs": [
    {
     "data": {
      "text/plain": [
       "0.7431900313624052"
      ]
     },
     "execution_count": 38,
     "metadata": {},
     "output_type": "execute_result"
    }
   ],
   "source": [
    "mt.roc_auc_score(test_target,svm_predictions)"
   ]
  },
  {
   "cell_type": "code",
   "execution_count": 39,
   "metadata": {},
   "outputs": [
    {
     "data": {
      "text/plain": [
       "0.04871298090229726"
      ]
     },
     "execution_count": 39,
     "metadata": {},
     "output_type": "execute_result"
    }
   ],
   "source": [
    "mt.f1_score(test_target,svm_predictions)"
   ]
  },
  {
   "cell_type": "code",
   "execution_count": 40,
   "metadata": {},
   "outputs": [
    {
     "data": {
      "text/plain": [
       "0.025331030512377662"
      ]
     },
     "execution_count": 40,
     "metadata": {},
     "output_type": "execute_result"
    }
   ],
   "source": [
    "mt.precision_score(test_target,svm_predictions)"
   ]
  },
  {
   "cell_type": "code",
   "execution_count": 41,
   "metadata": {},
   "outputs": [
    {
     "data": {
      "text/plain": [
       "0.6330935251798561"
      ]
     },
     "execution_count": 41,
     "metadata": {},
     "output_type": "execute_result"
    }
   ],
   "source": [
    "mt.recall_score(test_target,svm_predictions)"
   ]
  },
  {
   "cell_type": "code",
   "execution_count": 24,
   "metadata": {},
   "outputs": [
    {
     "name": "stderr",
     "output_type": "stream",
     "text": [
      "[Parallel(n_jobs=-1)]: Using backend LokyBackend with 4 concurrent workers.\n",
      "[Parallel(n_jobs=-1)]: Done   3 out of   3 | elapsed:  4.6min finished\n",
      "[Parallel(n_jobs=-1)]: Done   3 out of   3 | elapsed:  4.6min remaining:    0.0s\n",
      "C:\\Users\\anuj\\anaconda3\\lib\\site-packages\\sklearn\\linear_model\\_logistic.py:764: ConvergenceWarning: lbfgs failed to converge (status=1):\n",
      "STOP: TOTAL NO. of ITERATIONS REACHED LIMIT.\n",
      "\n",
      "Increase the number of iterations (max_iter) or scale the data as shown in:\n",
      "    https://scikit-learn.org/stable/modules/preprocessing.html\n",
      "Please also refer to the documentation for alternative solver options:\n",
      "    https://scikit-learn.org/stable/modules/linear_model.html#logistic-regression\n",
      "  extra_warning_msg=_LOGISTIC_SOLVER_CONVERGENCE_MSG)\n"
     ]
    },
    {
     "data": {
      "text/plain": [
       "LogisticRegressionCV(cv=3, n_jobs=-1, scoring='roc_auc', verbose=10)"
      ]
     },
     "execution_count": 24,
     "metadata": {},
     "output_type": "execute_result"
    }
   ],
   "source": [
    "#Logistic Regression\n",
    "\n",
    "from sklearn.linear_model import LogisticRegressionCV\n",
    "\n",
    "lr = LogisticRegressionCV(n_jobs=-1,verbose=10,max_iter=100,cv=3,Cs=10,scoring='roc_auc')\n",
    "lr.fit(train_features_new, train_target_new)"
   ]
  },
  {
   "cell_type": "code",
   "execution_count": 25,
   "metadata": {},
   "outputs": [],
   "source": [
    "lr_predict = lr.predict(test_features)"
   ]
  },
  {
   "cell_type": "code",
   "execution_count": 26,
   "metadata": {},
   "outputs": [
    {
     "data": {
      "image/png": "[encoded data removed]",
      "text/plain": [
       "<Figure size 576x396 with 2 Axes>"
      ]
     },
     "metadata": {},
     "output_type": "display_data"
    }
   ],
   "source": [
    "cm_lr=mt.confusion_matrix(test_target,lr_predict,labels=[0,1])\n",
    "\n",
    "#Bankrupt:1, Not_Bankrupt:0\n",
    "ax= plt.subplot() \n",
    "sn.heatmap(cm_lr, annot=True, ax = ax,fmt='g'); #annot=True to annotate cells \n",
    "# labels, title and ticks \n",
    "ax.set_xlabel('Predicted labels');\n",
    "ax.set_ylabel('True labels'); \n",
    "ax.set_title('Confusion Matrix'); \n",
    "ax.xaxis.set_ticklabels(['Not_Bankrupt', 'Bankrupt']); \n",
    "ax.yaxis.set_ticklabels(['Not_Bankrupt', 'Bankrupt']);\n"
   ]
  },
  {
   "cell_type": "code",
   "execution_count": 27,
   "metadata": {},
   "outputs": [
    {
     "data": {
      "text/plain": [
       "0.6158191086543218"
      ]
     },
     "execution_count": 27,
     "metadata": {},
     "output_type": "execute_result"
    }
   ],
   "source": [
    "mt.roc_auc_score(test_target,lr_predict)"
   ]
  },
  {
   "cell_type": "code",
   "execution_count": 28,
   "metadata": {},
   "outputs": [
    {
     "data": {
      "text/plain": [
       "0.027638190954773868"
      ]
     },
     "execution_count": 28,
     "metadata": {},
     "output_type": "execute_result"
    }
   ],
   "source": [
    "mt.f1_score(test_target,lr_predict)"
   ]
  },
  {
   "cell_type": "code",
   "execution_count": 29,
   "metadata": {},
   "outputs": [
    {
     "data": {
      "text/plain": [
       "0.014319187711533454"
      ]
     },
     "execution_count": 29,
     "metadata": {},
     "output_type": "execute_result"
    }
   ],
   "source": [
    "mt.precision_score(test_target,lr_predict)"
   ]
  },
  {
   "cell_type": "code",
   "execution_count": 30,
   "metadata": {},
   "outputs": [
    {
     "data": {
      "text/plain": [
       "0.39568345323741005"
      ]
     },
     "execution_count": 30,
     "metadata": {},
     "output_type": "execute_result"
    }
   ],
   "source": [
    "mt.recall_score(test_target,lr_predict)"
   ]
  },
  {
   "cell_type": "code",
   "execution_count": null,
   "metadata": {},
   "outputs": [],
   "source": []
  }
 ],
 "metadata": {
  "kernelspec": {
   "display_name": "Python 3",
   "language": "python",
   "name": "python3"
  },
  "language_info": {
   "codemirror_mode": {
    "name": "ipython",
    "version": 3
   },
   "file_extension": ".py",
   "mimetype": "text/x-python",
   "name": "python",
   "nbconvert_exporter": "python",
   "pygments_lexer": "ipython3",
   "version": "3.7.6"
  }
 },
 "nbformat": 4,
 "nbformat_minor": 4
}
